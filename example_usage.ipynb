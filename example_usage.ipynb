{
 "cells": [
  {
   "cell_type": "code",
   "execution_count": 49,
   "metadata": {},
   "outputs": [],
   "source": [
    "import numpy as np\n",
    "from ml_from_scratch.neighbors import KNeighborsClassifier, KNeighborsRegressor  # Import your class"
   ]
  },
  {
   "cell_type": "code",
   "execution_count": 50,
   "metadata": {},
   "outputs": [],
   "source": [
    "# Data Set\n",
    "X_train = np.array([[1], [2.5], [1.8], [4], [3]])\n",
    "y_train = np.array([\"A\", \"A\", \"B\", \"C\", \"C\"])  # Discrete class labels"
   ]
  },
  {
   "cell_type": "code",
   "execution_count": 51,
   "metadata": {},
   "outputs": [
    {
     "data": {
      "text/plain": [
       "(array([[1. ],\n",
       "        [2.5],\n",
       "        [1.8],\n",
       "        [4. ],\n",
       "        [3. ]]),\n",
       " array(['A', 'A', 'B', 'C', 'C'], dtype='<U1'))"
      ]
     },
     "execution_count": 51,
     "metadata": {},
     "output_type": "execute_result"
    }
   ],
   "source": [
    "X_train, y_train"
   ]
  },
  {
   "cell_type": "code",
   "execution_count": 52,
   "metadata": {},
   "outputs": [],
   "source": [
    "knn_clf = KNeighborsClassifier(n_neighbors=3)  # Use Euclidean distance (p=2)"
   ]
  },
  {
   "cell_type": "code",
   "execution_count": 53,
   "metadata": {},
   "outputs": [],
   "source": [
    "knn_clf.fit(X_train, y_train)"
   ]
  },
  {
   "cell_type": "code",
   "execution_count": 54,
   "metadata": {},
   "outputs": [
    {
     "name": "stdout",
     "output_type": "stream",
     "text": [
      "A\n"
     ]
    }
   ],
   "source": [
    "X_test = np.array([[2]])\n",
    "predictions = knn_clf.predict(X_test)\n",
    "print(predictions)"
   ]
  },
  {
   "cell_type": "code",
   "execution_count": 55,
   "metadata": {},
   "outputs": [
    {
     "name": "stdout",
     "output_type": "stream",
     "text": [
      "\n",
      "Test Point: [2]\n",
      "Nearest Neighbors (Indices): [2 1 0]\n",
      "Distances to Neighbors: [0.2 0.5 1. ]\n",
      "Prediction: A\n"
     ]
    }
   ],
   "source": [
    "for i, x_test in enumerate(X_test):\n",
    "    # Calculate distances to training data \n",
    "    distances, indices = knn_clf._kneighbors(np.array([x_test]), return_distance=True)\n",
    "\n",
    "    # Note: distances and indices are NumPy arrays with shape (1, n_neighbors)\n",
    "    distances = distances[0]  # Extract distances for the current test point\n",
    "    indices = indices[0]\n",
    "\n",
    "    print(f\"\\nTest Point: {x_test}\")\n",
    "    print(\"Nearest Neighbors (Indices):\", indices)\n",
    "    print(\"Distances to Neighbors:\", distances)\n",
    "    print(\"Prediction:\", predictions[i]) "
   ]
  },
  {
   "cell_type": "code",
   "execution_count": 56,
   "metadata": {},
   "outputs": [],
   "source": [
    "y_train = np.array([2.1, 4.8, 3.5, 8.9, 5.7])  # Continuous target values"
   ]
  },
  {
   "cell_type": "code",
   "execution_count": 58,
   "metadata": {},
   "outputs": [
    {
     "data": {
      "text/plain": [
       "array([2.1, 4.8, 3.5, 8.9, 5.7])"
      ]
     },
     "execution_count": 58,
     "metadata": {},
     "output_type": "execute_result"
    }
   ],
   "source": [
    "y_train"
   ]
  },
  {
   "cell_type": "code",
   "execution_count": 59,
   "metadata": {},
   "outputs": [],
   "source": [
    "knn_reg = KNeighborsRegressor(n_neighbors=3)\n",
    "knn_reg.fit(X_train, y_train)"
   ]
  },
  {
   "cell_type": "code",
   "execution_count": 60,
   "metadata": {},
   "outputs": [
    {
     "name": "stdout",
     "output_type": "stream",
     "text": [
      "[3.46666667 6.46666667]\n"
     ]
    }
   ],
   "source": [
    "X_test = np.array([[2], [3.8]])  \n",
    "predictions = knn_reg.predict(X_test)\n",
    "print(predictions)"
   ]
  },
  {
   "cell_type": "code",
   "execution_count": 61,
   "metadata": {},
   "outputs": [
    {
     "name": "stdout",
     "output_type": "stream",
     "text": [
      "\n",
      "Test Point: [2.]\n",
      "Nearest Neighbors (Indices): [2 1 0]\n",
      "Distances to Neighbors: [0.2 0.5 1. ]\n",
      "Prediction: 3.466666666666667\n",
      "\n",
      "Test Point: [3.8]\n",
      "Nearest Neighbors (Indices): [3 4 1]\n",
      "Distances to Neighbors: [0.2 0.8 1.3]\n",
      "Prediction: 6.466666666666668\n"
     ]
    }
   ],
   "source": [
    "for i, x_test in enumerate(X_test):\n",
    "    # Calculate distances to training data \n",
    "    distances, indices = knn_reg._kneighbors(np.array([x_test]), return_distance=True)\n",
    "\n",
    "    # Note: distances and indices are NumPy arrays with shape (1, n_neighbors)\n",
    "    distances = distances[0]  # Extract distances for the current test point\n",
    "    indices = indices[0]\n",
    "\n",
    "    print(f\"\\nTest Point: {x_test}\")\n",
    "    print(\"Nearest Neighbors (Indices):\", indices)\n",
    "    print(\"Distances to Neighbors:\", distances)\n",
    "    print(\"Prediction:\", predictions[i]) "
   ]
  },
  {
   "cell_type": "code",
   "execution_count": null,
   "metadata": {},
   "outputs": [],
   "source": []
  },
  {
   "cell_type": "code",
   "execution_count": null,
   "metadata": {},
   "outputs": [],
   "source": []
  },
  {
   "cell_type": "code",
   "execution_count": null,
   "metadata": {},
   "outputs": [],
   "source": []
  },
  {
   "cell_type": "code",
   "execution_count": null,
   "metadata": {},
   "outputs": [],
   "source": []
  }
 ],
 "metadata": {
  "kernelspec": {
   "display_name": "base",
   "language": "python",
   "name": "python3"
  },
  "language_info": {
   "codemirror_mode": {
    "name": "ipython",
    "version": 3
   },
   "file_extension": ".py",
   "mimetype": "text/x-python",
   "name": "python",
   "nbconvert_exporter": "python",
   "pygments_lexer": "ipython3",
   "version": "3.10.10"
  }
 },
 "nbformat": 4,
 "nbformat_minor": 2
}
