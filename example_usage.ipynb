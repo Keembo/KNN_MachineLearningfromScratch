{
 "cells": [
  {
   "cell_type": "code",
   "execution_count": 11,
   "metadata": {},
   "outputs": [],
   "source": [
    "import numpy as np\n",
    "from ml_from_scratch.neighbors import KNeighborsClassifier, KNeighborsRegressor  # Import your class"
   ]
  },
  {
   "cell_type": "code",
   "execution_count": 2,
   "metadata": {},
   "outputs": [],
   "source": [
    "# *******  Section 1: Load and Prepare Dataset *******\n",
    "# Replace this with code to load your dataset\n",
    "# Example using simplified data for demonstration\n",
    "X_train = np.array([[1, 1], [2, 1.5], [1.5, 2], [4, 4], [3.5, 3]])\n",
    "y_train = np.array([0, 0, 0, 1, 1]) "
   ]
  },
  {
   "cell_type": "code",
   "execution_count": 17,
   "metadata": {},
   "outputs": [
    {
     "data": {
      "text/plain": [
       "(array([[1. ],\n",
       "        [2.5],\n",
       "        [1.8],\n",
       "        [4. ],\n",
       "        [3. ]]),\n",
       " array([2.1, 4.8, 3.5, 8.9, 5.7]))"
      ]
     },
     "execution_count": 17,
     "metadata": {},
     "output_type": "execute_result"
    }
   ],
   "source": [
    "X_train, y_train"
   ]
  },
  {
   "cell_type": "code",
   "execution_count": 18,
   "metadata": {},
   "outputs": [],
   "source": [
    "# ******* Section 2: Create the KNN Model *******\n",
    "knn_clf = KNeighborsClassifier(n_neighbors=2, p=2)  # Use Euclidean distance (p=2)"
   ]
  },
  {
   "cell_type": "code",
   "execution_count": 19,
   "metadata": {},
   "outputs": [
    {
     "data": {
      "text/plain": [
       "<ml_from_scratch.neighbors._classifier.KNeighborsClassifier at 0x7f2454241ff0>"
      ]
     },
     "execution_count": 19,
     "metadata": {},
     "output_type": "execute_result"
    }
   ],
   "source": [
    "knn_clf"
   ]
  },
  {
   "cell_type": "code",
   "execution_count": 20,
   "metadata": {},
   "outputs": [],
   "source": [
    "# ******* Section 3: Fit the Model *******\n",
    "knn_clf.fit(X_train, y_train)"
   ]
  },
  {
   "cell_type": "code",
   "execution_count": 21,
   "metadata": {},
   "outputs": [
    {
     "name": "stdout",
     "output_type": "stream",
     "text": [
      "4.8\n"
     ]
    }
   ],
   "source": [
    "# ******* Section 4: Make Predictions *******\n",
    "X_test = np.array([[2.5, 2.5], [3, 3.2]])\n",
    "predictions = knn_clf.predict(X_test)\n",
    "print(predictions)"
   ]
  },
  {
   "cell_type": "code",
   "execution_count": 16,
   "metadata": {},
   "outputs": [],
   "source": [
    "# *******  Section 1: Load and Prepare Dataset *******\n",
    "# Replace this with code to load your dataset\n",
    "# Example using simplified data (for regression)\n",
    "X_train = np.array([[1], [2.5], [1.8], [4], [3]])\n",
    "y_train = np.array([2.1, 4.8, 3.5, 8.9, 5.7]) "
   ]
  },
  {
   "cell_type": "code",
   "execution_count": 12,
   "metadata": {},
   "outputs": [],
   "source": [
    "# ******* Section 2: Create the KNN Model *******\n",
    "knn_reg = KNeighborsRegressor(n_neighbors=3, p=2)  "
   ]
  },
  {
   "cell_type": "code",
   "execution_count": 13,
   "metadata": {},
   "outputs": [],
   "source": [
    "# ******* Section 3: Fit the Model *******\n",
    "knn_reg.fit(X_train, y_train)"
   ]
  },
  {
   "cell_type": "code",
   "execution_count": 14,
   "metadata": {},
   "outputs": [
    {
     "name": "stdout",
     "output_type": "stream",
     "text": [
      "[3.46666667 6.46666667]\n"
     ]
    }
   ],
   "source": [
    "# ******* Section 4: Make Predictions *******\n",
    "X_test = np.array([[2], [3.8]])\n",
    "predictions = knn_reg.predict(X_test)\n",
    "print(predictions)"
   ]
  }
 ],
 "metadata": {
  "kernelspec": {
   "display_name": "base",
   "language": "python",
   "name": "python3"
  },
  "language_info": {
   "codemirror_mode": {
    "name": "ipython",
    "version": 3
   },
   "file_extension": ".py",
   "mimetype": "text/x-python",
   "name": "python",
   "nbconvert_exporter": "python",
   "pygments_lexer": "ipython3",
   "version": "3.10.10"
  }
 },
 "nbformat": 4,
 "nbformat_minor": 2
}
